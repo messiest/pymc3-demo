{
 "cells": [
  {
   "cell_type": "markdown",
   "metadata": {},
   "source": [
    "# PyMC3 Demo\n",
    "---"
   ]
  },
  {
   "cell_type": "code",
   "execution_count": 1,
   "metadata": {},
   "outputs": [],
   "source": [
    "import numpy.random as rng\n",
    "import pymc3 as pm\n",
    "import matplotlib.pyplot as plt\n",
    "import seaborn as sns; sns.set(style='darkgrid')"
   ]
  },
  {
   "cell_type": "code",
   "execution_count": 2,
   "metadata": {},
   "outputs": [],
   "source": [
    "%matplotlib inline"
   ]
  },
  {
   "cell_type": "markdown",
   "metadata": {},
   "source": [
    "## Generate Toy-Data"
   ]
  },
  {
   "cell_type": "code",
   "execution_count": 3,
   "metadata": {},
   "outputs": [],
   "source": [
    "rng.seed(123)"
   ]
  },
  {
   "cell_type": "code",
   "execution_count": 4,
   "metadata": {},
   "outputs": [],
   "source": [
    "N = 100"
   ]
  },
  {
   "cell_type": "code",
   "execution_count": 5,
   "metadata": {},
   "outputs": [],
   "source": [
    "p0, p1 = rng.uniform(0, 1, size=2)"
   ]
  },
  {
   "cell_type": "code",
   "execution_count": 6,
   "metadata": {},
   "outputs": [],
   "source": [
    "data = rng.binomial(n=1, p=[p0, p1], size=[N, 2])"
   ]
  },
  {
   "cell_type": "markdown",
   "metadata": {},
   "source": [
    "## Build Model"
   ]
  },
  {
   "cell_type": "code",
   "execution_count": 7,
   "metadata": {},
   "outputs": [
    {
     "name": "stderr",
     "output_type": "stream",
     "text": [
      "Multiprocess sampling (2 chains in 2 jobs)\n",
      "CompoundStep\n",
      ">Metropolis: [p]\n",
      ">Metropolis: [beta]\n",
      ">Metropolis: [alpha]\n",
      "Sampling 2 chains: 100%|██████████| 11000/11000 [00:02<00:00, 4579.34draws/s]\n",
      "The number of effective samples is smaller than 10% for some parameters.\n"
     ]
    }
   ],
   "source": [
    "with pm.Model() as model:\n",
    "    alpha = pm.Uniform(\"alpha\", 0, 10, shape=2)\n",
    "    beta = pm.Uniform(\"beta\", 0, 10, shape=2)\n",
    "    p = pm.Beta(\"p\", alpha, beta, shape=2)\n",
    "    \n",
    "    obs = pm.Bernoulli(\"obs\", p, observed=data)\n",
    "    \n",
    "    step = pm.Metropolis()\n",
    "    trace = pm.sample(5000, step=step)"
   ]
  },
  {
   "cell_type": "markdown",
   "metadata": {},
   "source": [
    "## View Results"
   ]
  },
  {
   "cell_type": "code",
   "execution_count": 8,
   "metadata": {},
   "outputs": [
    {
     "name": "stderr",
     "output_type": "stream",
     "text": [
      "/anaconda3/lib/python3.7/site-packages/pymc3/stats.py:991: FutureWarning: The join_axes-keyword is deprecated. Use .reindex or .reindex_like on the result to achieve the same functionality.\n",
      "  axis=1, join_axes=[dforg.index])\n"
     ]
    },
    {
     "data": {
      "text/html": [
       "<div>\n",
       "<style scoped>\n",
       "    .dataframe tbody tr th:only-of-type {\n",
       "        vertical-align: middle;\n",
       "    }\n",
       "\n",
       "    .dataframe tbody tr th {\n",
       "        vertical-align: top;\n",
       "    }\n",
       "\n",
       "    .dataframe thead th {\n",
       "        text-align: right;\n",
       "    }\n",
       "</style>\n",
       "<table border=\"1\" class=\"dataframe\">\n",
       "  <thead>\n",
       "    <tr style=\"text-align: right;\">\n",
       "      <th></th>\n",
       "      <th>mean</th>\n",
       "      <th>sd</th>\n",
       "      <th>mc_error</th>\n",
       "      <th>hpd_2.5</th>\n",
       "      <th>hpd_97.5</th>\n",
       "      <th>n_eff</th>\n",
       "      <th>Rhat</th>\n",
       "    </tr>\n",
       "  </thead>\n",
       "  <tbody>\n",
       "    <tr>\n",
       "      <th>alpha__0</th>\n",
       "      <td>6.541492</td>\n",
       "      <td>2.401052</td>\n",
       "      <td>0.090237</td>\n",
       "      <td>2.040705</td>\n",
       "      <td>9.997878</td>\n",
       "      <td>650.775885</td>\n",
       "      <td>1.003424</td>\n",
       "    </tr>\n",
       "    <tr>\n",
       "      <th>alpha__1</th>\n",
       "      <td>3.861560</td>\n",
       "      <td>2.132335</td>\n",
       "      <td>0.085377</td>\n",
       "      <td>0.260611</td>\n",
       "      <td>8.161837</td>\n",
       "      <td>616.213239</td>\n",
       "      <td>1.000812</td>\n",
       "    </tr>\n",
       "    <tr>\n",
       "      <th>beta__0</th>\n",
       "      <td>3.649777</td>\n",
       "      <td>2.068926</td>\n",
       "      <td>0.074531</td>\n",
       "      <td>0.194664</td>\n",
       "      <td>7.685113</td>\n",
       "      <td>764.215170</td>\n",
       "      <td>1.001950</td>\n",
       "    </tr>\n",
       "    <tr>\n",
       "      <th>beta__1</th>\n",
       "      <td>6.623767</td>\n",
       "      <td>2.370097</td>\n",
       "      <td>0.094694</td>\n",
       "      <td>2.191683</td>\n",
       "      <td>9.998866</td>\n",
       "      <td>588.620198</td>\n",
       "      <td>1.004842</td>\n",
       "    </tr>\n",
       "    <tr>\n",
       "      <th>p__0</th>\n",
       "      <td>0.731525</td>\n",
       "      <td>0.043277</td>\n",
       "      <td>0.001495</td>\n",
       "      <td>0.643045</td>\n",
       "      <td>0.809649</td>\n",
       "      <td>765.690963</td>\n",
       "      <td>1.000403</td>\n",
       "    </tr>\n",
       "    <tr>\n",
       "      <th>p__1</th>\n",
       "      <td>0.279863</td>\n",
       "      <td>0.042831</td>\n",
       "      <td>0.001431</td>\n",
       "      <td>0.200459</td>\n",
       "      <td>0.366200</td>\n",
       "      <td>799.243390</td>\n",
       "      <td>1.000315</td>\n",
       "    </tr>\n",
       "  </tbody>\n",
       "</table>\n",
       "</div>"
      ],
      "text/plain": [
       "              mean        sd  mc_error   hpd_2.5  hpd_97.5       n_eff  \\\n",
       "alpha__0  6.541492  2.401052  0.090237  2.040705  9.997878  650.775885   \n",
       "alpha__1  3.861560  2.132335  0.085377  0.260611  8.161837  616.213239   \n",
       "beta__0   3.649777  2.068926  0.074531  0.194664  7.685113  764.215170   \n",
       "beta__1   6.623767  2.370097  0.094694  2.191683  9.998866  588.620198   \n",
       "p__0      0.731525  0.043277  0.001495  0.643045  0.809649  765.690963   \n",
       "p__1      0.279863  0.042831  0.001431  0.200459  0.366200  799.243390   \n",
       "\n",
       "              Rhat  \n",
       "alpha__0  1.003424  \n",
       "alpha__1  1.000812  \n",
       "beta__0   1.001950  \n",
       "beta__1   1.004842  \n",
       "p__0      1.000403  \n",
       "p__1      1.000315  "
      ]
     },
     "execution_count": 8,
     "metadata": {},
     "output_type": "execute_result"
    }
   ],
   "source": [
    "pm.summary(trace)"
   ]
  },
  {
   "cell_type": "markdown",
   "metadata": {},
   "source": [
    "## Plot Results"
   ]
  },
  {
   "cell_type": "code",
   "execution_count": 9,
   "metadata": {},
   "outputs": [
    {
     "data": {
      "image/png": "[encoded data removed]",
      "text/plain": [
       "<Figure size 1440x720 with 1 Axes>"
      ]
     },
     "metadata": {
      "needs_background": "light"
     },
     "output_type": "display_data"
    }
   ],
   "source": [
    "fig, ax = plt.subplots(figsize=(20, 10))\n",
    "ax.set_title('Distribution of Unknown Parameters')\n",
    "sns.kdeplot(trace['p'][..., 0], shade=True, ax=ax, label=r\"$\\hat{p}_0$\")\n",
    "sns.kdeplot(trace['p'][..., 1], shade=True, ax=ax, label=r\"$\\hat{p}_1$\")\n",
    "y_min, y_max = ax.get_ylim()\n",
    "ax.vlines(p0, 0, y_max, lw=3, linestyle='--', color=\"tab:blue\", label=f\"True $p_0={p0:.2f}$\")\n",
    "ax.vlines(p1, 0, y_max, lw=3, linestyle='--', color=\"tab:orange\", label=f\"True $p_1={p1:.2f}$\")\n",
    "plt.xlim(0, 1)\n",
    "plt.ylim(0, y_max)\n",
    "plt.legend(ncol=2);"
   ]
  },
  {
   "cell_type": "code",
   "execution_count": null,
   "metadata": {},
   "outputs": [],
   "source": []
  }
 ],
 "metadata": {
  "kernelspec": {
   "display_name": "Python 3",
   "language": "python",
   "name": "python3"
  },
  "language_info": {
   "codemirror_mode": {
    "name": "ipython",
    "version": 3
   },
   "file_extension": ".py",
   "mimetype": "text/x-python",
   "name": "python",
   "nbconvert_exporter": "python",
   "pygments_lexer": "ipython3",
   "version": "3.7.3"
  }
 },
 "nbformat": 4,
 "nbformat_minor": 2
}
